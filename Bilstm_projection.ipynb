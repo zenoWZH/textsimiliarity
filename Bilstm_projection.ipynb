{
 "cells": [
  {
   "cell_type": "code",
   "execution_count": 1,
   "metadata": {},
   "outputs": [
    {
     "name": "stderr",
     "output_type": "stream",
     "text": [
      "Using TensorFlow backend.\n"
     ]
    },
    {
     "name": "stdout",
     "output_type": "stream",
     "text": [
      "maxlen 30 epoch 10 dim_lstm 200\n",
      "dim_Dense 800\n",
      "dropout_rate 0.0 , LSTM type: bi-lstm sum\n",
      "Activation function: ['relu', 'relu', 'relu']\n",
      "bias of y: 0\n",
      "loss_function: mse\n",
      "start: 0 end:\n",
      "------------------------------\n",
      "Reading English Data: 81283\n",
      "Reading jp Data: 81283\n",
      "Merging the English and Japanes news dataframe...\n",
      "Drop the null line...\n",
      "False    80968\n",
      "True       315\n",
      "Name: en_article, dtype: int64\n",
      "Using the new test data to evaluate.......\n"
     ]
    },
    {
     "name": "stderr",
     "output_type": "stream",
     "text": [
      "/home/R2016hwang/research/keras_title_projection.py:358: DeprecationWarning: Call to deprecated `__contains__` (Method will be removed in 4.0.0, use self.wv.__contains__() instead).\n",
      "  if token in model:\n",
      "/home/R2016hwang/research/keras_title_projection.py:364: DeprecationWarning: Call to deprecated `__getitem__` (Method will be removed in 4.0.0, use self.wv.__getitem__() instead).\n",
      "  r.append(model[token])\n",
      "/home/R2016hwang/research/keras_title_projection.py:499: SettingWithCopyWarning: \n",
      "A value is trying to be set on a copy of a slice from a DataFrame.\n",
      "Try using .loc[row_indexer,col_indexer] = value instead\n",
      "\n",
      "See the caveats in the documentation: http://pandas.pydata.org/pandas-docs/stable/indexing.html#indexing-view-versus-copy\n",
      "  df_pairs_evaluate['word2vec_en'] = df_pairs_evaluate['en_article'].apply(doc2embed, args=(model_en,))\n",
      "/home/R2016hwang/research/keras_title_projection.py:362: DeprecationWarning: Call to deprecated `__getitem__` (Method will be removed in 4.0.0, use self.wv.__getitem__() instead).\n",
      "  r.append(np.array(model[token]).dot(translation_matrix))\n",
      "/home/R2016hwang/research/keras_title_projection.py:501: SettingWithCopyWarning: \n",
      "A value is trying to be set on a copy of a slice from a DataFrame.\n",
      "Try using .loc[row_indexer,col_indexer] = value instead\n",
      "\n",
      "See the caveats in the documentation: http://pandas.pydata.org/pandas-docs/stable/indexing.html#indexing-view-versus-copy\n",
      "  df_pairs_evaluate['word2vec_jp'] = df_pairs_evaluate['jp_article'].apply(doc2embed, args=(model_jp, trans_jp_en))\n",
      "/home/R2016hwang/research/keras_title_projection.py:503: SettingWithCopyWarning: \n",
      "A value is trying to be set on a copy of a slice from a DataFrame.\n",
      "Try using .loc[row_indexer,col_indexer] = value instead\n",
      "\n",
      "See the caveats in the documentation: http://pandas.pydata.org/pandas-docs/stable/indexing.html#indexing-view-versus-copy\n",
      "  df_pairs_evaluate['padding_en'] = df_pairs_evaluate['word2vec_en'].apply(padding, args=(TIME_STEP,))\n",
      "/home/R2016hwang/research/keras_title_projection.py:505: SettingWithCopyWarning: \n",
      "A value is trying to be set on a copy of a slice from a DataFrame.\n",
      "Try using .loc[row_indexer,col_indexer] = value instead\n",
      "\n",
      "See the caveats in the documentation: http://pandas.pydata.org/pandas-docs/stable/indexing.html#indexing-view-versus-copy\n",
      "  df_pairs_evaluate['padding_jp'] = df_pairs_evaluate['word2vec_jp'].apply(padding, args=(TIME_STEP,))\n",
      "/home/R2016hwang/research/keras_title_projection.py:516: SettingWithCopyWarning: \n",
      "A value is trying to be set on a copy of a slice from a DataFrame.\n",
      "Try using .loc[row_indexer,col_indexer] = value instead\n",
      "\n",
      "See the caveats in the documentation: http://pandas.pydata.org/pandas-docs/stable/indexing.html#indexing-view-versus-copy\n",
      "  df_pairs_sample['word2vec_en'] = df_pairs_sample['en_article'].apply(doc2embed, args=(model_en,))\n",
      "/home/R2016hwang/research/keras_title_projection.py:518: SettingWithCopyWarning: \n",
      "A value is trying to be set on a copy of a slice from a DataFrame.\n",
      "Try using .loc[row_indexer,col_indexer] = value instead\n",
      "\n",
      "See the caveats in the documentation: http://pandas.pydata.org/pandas-docs/stable/indexing.html#indexing-view-versus-copy\n",
      "  df_pairs_sample['word2vec_jp'] = df_pairs_sample['jp_article'].apply(doc2embed, args=(model_jp, trans_jp_en))\n"
     ]
    },
    {
     "name": "stdout",
     "output_type": "stream",
     "text": [
      "长度为零\n",
      "长度为零\n",
      "长度为零\n",
      "长度为零\n",
      "长度为零\n",
      "长度为零\n",
      "长度为零\n",
      "长度为零\n",
      "长度为零\n",
      "长度为零\n"
     ]
    },
    {
     "name": "stderr",
     "output_type": "stream",
     "text": [
      "/home/R2016hwang/research/keras_title_projection.py:521: SettingWithCopyWarning: \n",
      "A value is trying to be set on a copy of a slice from a DataFrame.\n",
      "Try using .loc[row_indexer,col_indexer] = value instead\n",
      "\n",
      "See the caveats in the documentation: http://pandas.pydata.org/pandas-docs/stable/indexing.html#indexing-view-versus-copy\n",
      "  df_pairs_sample['padding_en'] = df_pairs_sample['word2vec_en'].apply(padding, args=(TIME_STEP,))\n",
      "/home/R2016hwang/research/keras_title_projection.py:523: SettingWithCopyWarning: \n",
      "A value is trying to be set on a copy of a slice from a DataFrame.\n",
      "Try using .loc[row_indexer,col_indexer] = value instead\n",
      "\n",
      "See the caveats in the documentation: http://pandas.pydata.org/pandas-docs/stable/indexing.html#indexing-view-versus-copy\n",
      "  df_pairs_sample['padding_jp'] = df_pairs_sample['word2vec_jp'].apply(padding, args=(TIME_STEP,))\n"
     ]
    },
    {
     "name": "stdout",
     "output_type": "stream",
     "text": [
      "C value = 481 position: [12333, 14268, 14405, 23092, 23095, 23096, 23116, 23153, 23161, 23165, 23169, 23175, 23179, 23188, 23194, 23196, 23208, 23225, 23247, 23279, 23306, 23327, 23338, 23362, 23367, 23380, 23381, 23396, 23413, 23417, 23432, 23434, 23452, 23471, 23477, 23479, 23481, 23484, 23489, 23493, 23526, 23537, 23563, 23565, 23569, 23572, 23585, 23598, 23599, 23617, 23624, 23661, 23694, 23701, 23702, 23713, 23721, 23724, 23772, 23784, 23805, 23808, 23816, 23831, 23866, 23903, 23908, 23916, 23928, 23989, 24018, 24022, 24030, 24037, 24054, 24061, 24070, 24078, 24079, 24085, 24097, 24116, 24120, 24149, 24150, 24165, 24189, 24209, 24214, 24222, 24226, 24232, 24247, 24282, 24328, 24342, 24364, 24375, 24405, 24429, 24434, 24459, 24468, 24469, 24474, 24531, 24532, 24542, 24573, 24600, 24663, 24665, 24667, 24670, 24679, 24689, 24693, 24733, 24760, 24773, 24774, 24803, 24804, 24827, 24842, 24851, 24878, 24896, 24937, 24945, 24954, 24956, 24961, 24976, 24983, 24994, 25009, 25016, 25034, 25050, 25065, 25101, 25124, 25130, 25153, 25176, 25184, 25193, 25203, 25234, 25267, 25303, 25312, 25315, 25316, 25318, 25319, 25341, 25342, 25348, 25353, 25354, 25359, 25362, 25372, 25382, 25384, 25398, 25400, 25422, 25424, 25428, 25434, 25452, 25464, 25471, 25476, 25495, 25499, 25547, 25573, 25581, 25583, 25587, 25591, 25594, 25597, 25647, 25664, 25665, 25668, 25680, 25682, 25685, 25713, 25735, 25736, 25754, 25768, 25772, 25775, 25782, 25804, 25853, 25856, 25911, 25915, 25957, 25960, 25990, 26002, 26005, 26015, 26019, 26050, 26053, 26057, 26072, 26078, 26103, 26159, 26173, 26177, 26186, 26199, 26212, 26221, 26229, 26236, 26239, 26247, 26251, 26263, 26264, 26267, 26270, 26279, 26297, 26310, 26313, 26317, 26338, 26362, 26364, 26368, 26376, 26397, 26425, 26443, 26489, 26495, 26529, 26531, 26558, 26563, 26597, 26598, 26613, 26620, 26631, 26658, 26686, 26700, 26711, 26715, 26720, 26742, 26765, 26829, 26840, 26876, 26911, 26922, 26927, 26931, 26939, 26942, 26943, 26959, 26969, 26987, 26994, 26996, 27009, 27010, 27015, 27031, 27043, 27057, 27085, 27165, 27175, 27176, 27230, 27233, 27237, 27249, 27252, 27256, 27260, 27263, 27284, 27314, 27339, 27365, 27381, 27417, 27480, 27493, 27494, 27503, 27537, 27543, 27554, 27587, 27599, 27606, 27610, 27617, 27631, 27675, 27682, 27746, 27779, 27800, 27811, 27818, 27820, 27823, 27825, 27839, 27843, 27858, 27872, 27876, 27894, 27896, 27899, 27904, 27916, 27919, 27929, 27938, 27945, 27958, 27968, 27979, 27980, 28032, 28098, 28099, 28108, 28110, 28116, 28130, 28136, 28159, 28161, 28164, 28167, 28179, 28197, 28200, 28221, 28249, 28253, 28261, 28264, 28277, 28293, 28298, 28310, 28314, 28322, 28369, 28423, 28431, 28433, 28444, 28446, 28450, 28457, 28464, 28468, 28481, 28484, 28494, 28499, 28504, 28513, 28522, 28528, 28533, 28539, 28541, 28544, 28550, 28562, 28580, 28611, 28614, 28621, 28636, 28642, 28653, 28698, 28713, 28744, 28753, 28763, 28777, 28838, 28839, 28855, 28860, 28862, 28865, 28881, 28883, 28888, 28893, 28933, 28936, 28939, 28942, 28944, 28945, 28946, 28956, 28957, 28959, 35146, 35297, 35357, 35453, 35456, 35499, 35585, 35769, 35775, 35878, 36002, 36016, 36090, 36107, 36110, 36111, 36140, 36152, 36191, 36319, 36441, 36446, 36528, 36625, 36680, 36682, 36702, 36740, 36781, 36802, 36805, 36865, 36896, 36925, 36936, 36948, 36972, 36973, 36989, 37048, 37050, 37120, 37185, 37285, 37311, 37351, 37377, 37403, 45266, 48742]\n",
      "C value = 1 position: [261]\n"
     ]
    },
    {
     "name": "stderr",
     "output_type": "stream",
     "text": [
      "/home/R2016hwang/research/keras_title_projection.py:630: UserWarning: Update your `Model` call to the Keras 2 API: `Model(inputs=[<tf.Tenso..., outputs=Tensor(\"ma...)`\n",
      "  model_lstm2 = Model(input=[input_1, input_2], output=main_output)\n"
     ]
    },
    {
     "name": "stdout",
     "output_type": "stream",
     "text": [
      "____________________________________________________________________________________________________\n",
      "Layer (type)                     Output Shape          Param #     Connected to                     \n",
      "====================================================================================================\n",
      "main_input_1 (InputLayer)        (None, 30, 200)       0                                            \n",
      "____________________________________________________________________________________________________\n",
      "main_input_2 (InputLayer)        (None, 30, 200)       0                                            \n",
      "____________________________________________________________________________________________________\n",
      "bidirectional_1 (Bidirectional)  (None, 200)           641600      main_input_1[0][0]               \n",
      "____________________________________________________________________________________________________\n",
      "bidirectional_2 (Bidirectional)  (None, 200)           641600      main_input_2[0][0]               \n",
      "____________________________________________________________________________________________________\n",
      "concatenate_1 (Concatenate)      (None, 400)           0           bidirectional_1[0][0]            \n",
      "                                                                   bidirectional_2[0][0]            \n",
      "____________________________________________________________________________________________________\n",
      "dense_1 (Dense)                  (None, 800)           320800      concatenate_1[0][0]              \n",
      "____________________________________________________________________________________________________\n",
      "dropout_1 (Dropout)              (None, 800)           0           dense_1[0][0]                    \n",
      "____________________________________________________________________________________________________\n",
      "main_output (Dense)              (None, 1)             801         dropout_1[0][0]                  \n",
      "====================================================================================================\n",
      "Total params: 1,604,801\n",
      "Trainable params: 1,604,801\n",
      "Non-trainable params: 0\n",
      "____________________________________________________________________________________________________\n",
      "None\n",
      "Train on 80000 samples, validate on 20000 samples\n",
      "Epoch 1/1\n"
     ]
    },
    {
     "ename": "InternalError",
     "evalue": "CUB segmented reduce errorout of memory\n\t [[Node: bidirectional_2/Sum = Sum[T=DT_FLOAT, Tidx=DT_INT32, keep_dims=false, _device=\"/job:localhost/replica:0/task:0/device:GPU:0\"](bidirectional_2/zeros_like, bidirectional_1/Sum/reduction_indices)]]\n\t [[Node: mul_1/_43 = _Recv[client_terminated=false, recv_device=\"/job:localhost/replica:0/task:0/device:CPU:0\", send_device=\"/job:localhost/replica:0/task:0/device:GPU:0\", send_device_incarnation=1, tensor_name=\"edge_6892_mul_1\", tensor_type=DT_FLOAT, _device=\"/job:localhost/replica:0/task:0/device:CPU:0\"]()]]\n\nCaused by op 'bidirectional_2/Sum', defined at:\n  File \"/home/R2016hwang/.pyenv/versions/3.5.5/lib/python3.5/runpy.py\", line 193, in _run_module_as_main\n    \"__main__\", mod_spec)\n  File \"/home/R2016hwang/.pyenv/versions/3.5.5/lib/python3.5/runpy.py\", line 85, in _run_code\n    exec(code, run_globals)\n  File \"/home/R2016hwang/.pyenv/versions/3.5.5/lib/python3.5/site-packages/ipykernel_launcher.py\", line 16, in <module>\n    app.launch_new_instance()\n  File \"/home/R2016hwang/.pyenv/versions/3.5.5/lib/python3.5/site-packages/traitlets/config/application.py\", line 658, in launch_instance\n    app.start()\n  File \"/home/R2016hwang/.pyenv/versions/3.5.5/lib/python3.5/site-packages/ipykernel/kernelapp.py\", line 486, in start\n    self.io_loop.start()\n  File \"/home/R2016hwang/.pyenv/versions/3.5.5/lib/python3.5/site-packages/tornado/platform/asyncio.py\", line 127, in start\n    self.asyncio_loop.run_forever()\n  File \"/home/R2016hwang/.pyenv/versions/3.5.5/lib/python3.5/asyncio/base_events.py\", line 421, in run_forever\n    self._run_once()\n  File \"/home/R2016hwang/.pyenv/versions/3.5.5/lib/python3.5/asyncio/base_events.py\", line 1425, in _run_once\n    handle._run()\n  File \"/home/R2016hwang/.pyenv/versions/3.5.5/lib/python3.5/asyncio/events.py\", line 127, in _run\n    self._callback(*self._args)\n  File \"/home/R2016hwang/.pyenv/versions/3.5.5/lib/python3.5/site-packages/tornado/platform/asyncio.py\", line 117, in _handle_events\n    handler_func(fileobj, events)\n  File \"/home/R2016hwang/.pyenv/versions/3.5.5/lib/python3.5/site-packages/tornado/stack_context.py\", line 276, in null_wrapper\n    return fn(*args, **kwargs)\n  File \"/home/R2016hwang/.pyenv/versions/3.5.5/lib/python3.5/site-packages/zmq/eventloop/zmqstream.py\", line 450, in _handle_events\n    self._handle_recv()\n  File \"/home/R2016hwang/.pyenv/versions/3.5.5/lib/python3.5/site-packages/zmq/eventloop/zmqstream.py\", line 480, in _handle_recv\n    self._run_callback(callback, msg)\n  File \"/home/R2016hwang/.pyenv/versions/3.5.5/lib/python3.5/site-packages/zmq/eventloop/zmqstream.py\", line 432, in _run_callback\n    callback(*args, **kwargs)\n  File \"/home/R2016hwang/.pyenv/versions/3.5.5/lib/python3.5/site-packages/tornado/stack_context.py\", line 276, in null_wrapper\n    return fn(*args, **kwargs)\n  File \"/home/R2016hwang/.pyenv/versions/3.5.5/lib/python3.5/site-packages/ipykernel/kernelbase.py\", line 283, in dispatcher\n    return self.dispatch_shell(stream, msg)\n  File \"/home/R2016hwang/.pyenv/versions/3.5.5/lib/python3.5/site-packages/ipykernel/kernelbase.py\", line 233, in dispatch_shell\n    handler(stream, idents, msg)\n  File \"/home/R2016hwang/.pyenv/versions/3.5.5/lib/python3.5/site-packages/ipykernel/kernelbase.py\", line 399, in execute_request\n    user_expressions, allow_stdin)\n  File \"/home/R2016hwang/.pyenv/versions/3.5.5/lib/python3.5/site-packages/ipykernel/ipkernel.py\", line 208, in do_execute\n    res = shell.run_cell(code, store_history=store_history, silent=silent)\n  File \"/home/R2016hwang/.pyenv/versions/3.5.5/lib/python3.5/site-packages/ipykernel/zmqshell.py\", line 537, in run_cell\n    return super(ZMQInteractiveShell, self).run_cell(*args, **kwargs)\n  File \"/home/R2016hwang/.pyenv/versions/3.5.5/lib/python3.5/site-packages/IPython/core/interactiveshell.py\", line 2662, in run_cell\n    raw_cell, store_history, silent, shell_futures)\n  File \"/home/R2016hwang/.pyenv/versions/3.5.5/lib/python3.5/site-packages/IPython/core/interactiveshell.py\", line 2785, in _run_cell\n    interactivity=interactivity, compiler=compiler, result=result)\n  File \"/home/R2016hwang/.pyenv/versions/3.5.5/lib/python3.5/site-packages/IPython/core/interactiveshell.py\", line 2909, in run_ast_nodes\n    if self.run_code(code, result):\n  File \"/home/R2016hwang/.pyenv/versions/3.5.5/lib/python3.5/site-packages/IPython/core/interactiveshell.py\", line 2963, in run_code\n    exec(code_obj, self.user_global_ns, self.user_ns)\n  File \"<ipython-input-1-ae3cc16c1d89>\", line 1, in <module>\n    get_ipython().run_line_magic('run', 'keras_title_projection.py')\n  File \"/home/R2016hwang/.pyenv/versions/3.5.5/lib/python3.5/site-packages/IPython/core/interactiveshell.py\", line 2131, in run_line_magic\n    result = fn(*args,**kwargs)\n  File \"<decorator-gen-60>\", line 2, in run\n  File \"/home/R2016hwang/.pyenv/versions/3.5.5/lib/python3.5/site-packages/IPython/core/magic.py\", line 187, in <lambda>\n    call = lambda f, *a, **k: f(*a, **k)\n  File \"/home/R2016hwang/.pyenv/versions/3.5.5/lib/python3.5/site-packages/IPython/core/magics/execution.py\", line 775, in run\n    run()\n  File \"/home/R2016hwang/.pyenv/versions/3.5.5/lib/python3.5/site-packages/IPython/core/magics/execution.py\", line 761, in run\n    exit_ignore=exit_ignore)\n  File \"/home/R2016hwang/.pyenv/versions/3.5.5/lib/python3.5/site-packages/IPython/core/interactiveshell.py\", line 2527, in safe_execfile\n    self.compile if shell_futures else None)\n  File \"/home/R2016hwang/.pyenv/versions/3.5.5/lib/python3.5/site-packages/IPython/utils/py3compat.py\", line 188, in execfile\n    exec(compiler(f.read(), fname, 'exec'), glob, loc)\n  File \"/home/R2016hwang/research/keras_title_projection.py\", line 608, in <module>\n    lstm_out_2 = Bidirectional(LSTM(dim_lstm, go_backwards=True), merge_mode=bi_lstm_mode)(input_2)\n  File \"/home/R2016hwang/.pyenv/versions/3.5.5/lib/python3.5/site-packages/keras/engine/topology.py\", line 596, in __call__\n    output = self.call(inputs, **kwargs)\n  File \"/home/R2016hwang/.pyenv/versions/3.5.5/lib/python3.5/site-packages/keras/layers/wrappers.py\", line 263, in call\n    y = self.forward_layer.call(inputs, **kwargs)\n  File \"/home/R2016hwang/.pyenv/versions/3.5.5/lib/python3.5/site-packages/keras/layers/recurrent.py\", line 309, in call\n    initial_state = self.get_initial_state(inputs)\n  File \"/home/R2016hwang/.pyenv/versions/3.5.5/lib/python3.5/site-packages/keras/layers/recurrent.py\", line 247, in get_initial_state\n    initial_state = K.sum(initial_state, axis=(1, 2))  # (samples,)\n  File \"/home/R2016hwang/.pyenv/versions/3.5.5/lib/python3.5/site-packages/keras/backend/tensorflow_backend.py\", line 1190, in sum\n    return tf.reduce_sum(x, reduction_indices=axis, keep_dims=keepdims)\n  File \"/home/R2016hwang/.pyenv/versions/3.5.5/lib/python3.5/site-packages/tensorflow/python/ops/math_ops.py\", line 1307, in reduce_sum\n    name=name)\n  File \"/home/R2016hwang/.pyenv/versions/3.5.5/lib/python3.5/site-packages/tensorflow/python/ops/gen_math_ops.py\", line 4682, in _sum\n    keep_dims=keep_dims, name=name)\n  File \"/home/R2016hwang/.pyenv/versions/3.5.5/lib/python3.5/site-packages/tensorflow/python/framework/op_def_library.py\", line 787, in _apply_op_helper\n    op_def=op_def)\n  File \"/home/R2016hwang/.pyenv/versions/3.5.5/lib/python3.5/site-packages/tensorflow/python/framework/ops.py\", line 2956, in create_op\n    op_def=op_def)\n  File \"/home/R2016hwang/.pyenv/versions/3.5.5/lib/python3.5/site-packages/tensorflow/python/framework/ops.py\", line 1470, in __init__\n    self._traceback = self._graph._extract_stack()  # pylint: disable=protected-access\n\nInternalError (see above for traceback): CUB segmented reduce errorout of memory\n\t [[Node: bidirectional_2/Sum = Sum[T=DT_FLOAT, Tidx=DT_INT32, keep_dims=false, _device=\"/job:localhost/replica:0/task:0/device:GPU:0\"](bidirectional_2/zeros_like, bidirectional_1/Sum/reduction_indices)]]\n\t [[Node: mul_1/_43 = _Recv[client_terminated=false, recv_device=\"/job:localhost/replica:0/task:0/device:CPU:0\", send_device=\"/job:localhost/replica:0/task:0/device:GPU:0\", send_device_incarnation=1, tensor_name=\"edge_6892_mul_1\", tensor_type=DT_FLOAT, _device=\"/job:localhost/replica:0/task:0/device:CPU:0\"]()]]\n",
     "output_type": "error",
     "traceback": [
      "\u001b[0;31m---------------------------------------------------------------------------\u001b[0m",
      "\u001b[0;31mInternalError\u001b[0m                             Traceback (most recent call last)",
      "\u001b[0;32m~/.pyenv/versions/3.5.5/lib/python3.5/site-packages/tensorflow/python/client/session.py\u001b[0m in \u001b[0;36m_do_call\u001b[0;34m(self, fn, *args)\u001b[0m\n\u001b[1;32m   1322\u001b[0m     \u001b[0;32mtry\u001b[0m\u001b[0;34m:\u001b[0m\u001b[0;34m\u001b[0m\u001b[0m\n\u001b[0;32m-> 1323\u001b[0;31m       \u001b[0;32mreturn\u001b[0m \u001b[0mfn\u001b[0m\u001b[0;34m(\u001b[0m\u001b[0;34m*\u001b[0m\u001b[0margs\u001b[0m\u001b[0;34m)\u001b[0m\u001b[0;34m\u001b[0m\u001b[0m\n\u001b[0m\u001b[1;32m   1324\u001b[0m     \u001b[0;32mexcept\u001b[0m \u001b[0merrors\u001b[0m\u001b[0;34m.\u001b[0m\u001b[0mOpError\u001b[0m \u001b[0;32mas\u001b[0m \u001b[0me\u001b[0m\u001b[0;34m:\u001b[0m\u001b[0;34m\u001b[0m\u001b[0m\n",
      "\u001b[0;32m~/.pyenv/versions/3.5.5/lib/python3.5/site-packages/tensorflow/python/client/session.py\u001b[0m in \u001b[0;36m_run_fn\u001b[0;34m(session, feed_dict, fetch_list, target_list, options, run_metadata)\u001b[0m\n\u001b[1;32m   1301\u001b[0m                                    \u001b[0mfeed_dict\u001b[0m\u001b[0;34m,\u001b[0m \u001b[0mfetch_list\u001b[0m\u001b[0;34m,\u001b[0m \u001b[0mtarget_list\u001b[0m\u001b[0;34m,\u001b[0m\u001b[0;34m\u001b[0m\u001b[0m\n\u001b[0;32m-> 1302\u001b[0;31m                                    status, run_metadata)\n\u001b[0m\u001b[1;32m   1303\u001b[0m \u001b[0;34m\u001b[0m\u001b[0m\n",
      "\u001b[0;32m~/.pyenv/versions/3.5.5/lib/python3.5/site-packages/tensorflow/python/framework/errors_impl.py\u001b[0m in \u001b[0;36m__exit__\u001b[0;34m(self, type_arg, value_arg, traceback_arg)\u001b[0m\n\u001b[1;32m    472\u001b[0m             \u001b[0mcompat\u001b[0m\u001b[0;34m.\u001b[0m\u001b[0mas_text\u001b[0m\u001b[0;34m(\u001b[0m\u001b[0mc_api\u001b[0m\u001b[0;34m.\u001b[0m\u001b[0mTF_Message\u001b[0m\u001b[0;34m(\u001b[0m\u001b[0mself\u001b[0m\u001b[0;34m.\u001b[0m\u001b[0mstatus\u001b[0m\u001b[0;34m.\u001b[0m\u001b[0mstatus\u001b[0m\u001b[0;34m)\u001b[0m\u001b[0;34m)\u001b[0m\u001b[0;34m,\u001b[0m\u001b[0;34m\u001b[0m\u001b[0m\n\u001b[0;32m--> 473\u001b[0;31m             c_api.TF_GetCode(self.status.status))\n\u001b[0m\u001b[1;32m    474\u001b[0m     \u001b[0;31m# Delete the underlying status object from memory otherwise it stays alive\u001b[0m\u001b[0;34m\u001b[0m\u001b[0;34m\u001b[0m\u001b[0m\n",
      "\u001b[0;31mInternalError\u001b[0m: CUB segmented reduce errorout of memory\n\t [[Node: bidirectional_2/Sum = Sum[T=DT_FLOAT, Tidx=DT_INT32, keep_dims=false, _device=\"/job:localhost/replica:0/task:0/device:GPU:0\"](bidirectional_2/zeros_like, bidirectional_1/Sum/reduction_indices)]]\n\t [[Node: mul_1/_43 = _Recv[client_terminated=false, recv_device=\"/job:localhost/replica:0/task:0/device:CPU:0\", send_device=\"/job:localhost/replica:0/task:0/device:GPU:0\", send_device_incarnation=1, tensor_name=\"edge_6892_mul_1\", tensor_type=DT_FLOAT, _device=\"/job:localhost/replica:0/task:0/device:CPU:0\"]()]]",
      "\nDuring handling of the above exception, another exception occurred:\n",
      "\u001b[0;31mInternalError\u001b[0m                             Traceback (most recent call last)",
      "\u001b[0;32m~/research/keras_title_projection.py\u001b[0m in \u001b[0;36m<module>\u001b[0;34m()\u001b[0m\n\u001b[1;32m    652\u001b[0m                                \u001b[0mepochs\u001b[0m\u001b[0;34m=\u001b[0m\u001b[0mi\u001b[0m \u001b[0;34m+\u001b[0m \u001b[0;36m1\u001b[0m\u001b[0;34m,\u001b[0m\u001b[0;34m\u001b[0m\u001b[0m\n\u001b[1;32m    653\u001b[0m                                \u001b[0mbatch_size\u001b[0m\u001b[0;34m=\u001b[0m\u001b[0;36m32\u001b[0m\u001b[0;34m,\u001b[0m\u001b[0;34m\u001b[0m\u001b[0m\n\u001b[0;32m--> 654\u001b[0;31m                                initial_epoch=i)\n\u001b[0m\u001b[1;32m    655\u001b[0m \u001b[0;34m\u001b[0m\u001b[0m\n\u001b[1;32m    656\u001b[0m     \u001b[0;31m# Evaluation on test data 1\u001b[0m\u001b[0;34m\u001b[0m\u001b[0;34m\u001b[0m\u001b[0m\n",
      "\u001b[0;32m~/.pyenv/versions/3.5.5/lib/python3.5/site-packages/keras/engine/training.py\u001b[0m in \u001b[0;36mfit\u001b[0;34m(self, x, y, batch_size, epochs, verbose, callbacks, validation_split, validation_data, shuffle, class_weight, sample_weight, initial_epoch, **kwargs)\u001b[0m\n\u001b[1;32m   1505\u001b[0m                               \u001b[0mval_f\u001b[0m\u001b[0;34m=\u001b[0m\u001b[0mval_f\u001b[0m\u001b[0;34m,\u001b[0m \u001b[0mval_ins\u001b[0m\u001b[0;34m=\u001b[0m\u001b[0mval_ins\u001b[0m\u001b[0;34m,\u001b[0m \u001b[0mshuffle\u001b[0m\u001b[0;34m=\u001b[0m\u001b[0mshuffle\u001b[0m\u001b[0;34m,\u001b[0m\u001b[0;34m\u001b[0m\u001b[0m\n\u001b[1;32m   1506\u001b[0m                               \u001b[0mcallback_metrics\u001b[0m\u001b[0;34m=\u001b[0m\u001b[0mcallback_metrics\u001b[0m\u001b[0;34m,\u001b[0m\u001b[0;34m\u001b[0m\u001b[0m\n\u001b[0;32m-> 1507\u001b[0;31m                               initial_epoch=initial_epoch)\n\u001b[0m\u001b[1;32m   1508\u001b[0m \u001b[0;34m\u001b[0m\u001b[0m\n\u001b[1;32m   1509\u001b[0m     \u001b[0;32mdef\u001b[0m \u001b[0mevaluate\u001b[0m\u001b[0;34m(\u001b[0m\u001b[0mself\u001b[0m\u001b[0;34m,\u001b[0m \u001b[0mx\u001b[0m\u001b[0;34m,\u001b[0m \u001b[0my\u001b[0m\u001b[0;34m,\u001b[0m \u001b[0mbatch_size\u001b[0m\u001b[0;34m=\u001b[0m\u001b[0;36m32\u001b[0m\u001b[0;34m,\u001b[0m \u001b[0mverbose\u001b[0m\u001b[0;34m=\u001b[0m\u001b[0;36m1\u001b[0m\u001b[0;34m,\u001b[0m \u001b[0msample_weight\u001b[0m\u001b[0;34m=\u001b[0m\u001b[0;32mNone\u001b[0m\u001b[0;34m)\u001b[0m\u001b[0;34m:\u001b[0m\u001b[0;34m\u001b[0m\u001b[0m\n",
      "\u001b[0;32m~/.pyenv/versions/3.5.5/lib/python3.5/site-packages/keras/engine/training.py\u001b[0m in \u001b[0;36m_fit_loop\u001b[0;34m(self, f, ins, out_labels, batch_size, epochs, verbose, callbacks, val_f, val_ins, shuffle, callback_metrics, initial_epoch)\u001b[0m\n\u001b[1;32m   1154\u001b[0m                 \u001b[0mbatch_logs\u001b[0m\u001b[0;34m[\u001b[0m\u001b[0;34m'size'\u001b[0m\u001b[0;34m]\u001b[0m \u001b[0;34m=\u001b[0m \u001b[0mlen\u001b[0m\u001b[0;34m(\u001b[0m\u001b[0mbatch_ids\u001b[0m\u001b[0;34m)\u001b[0m\u001b[0;34m\u001b[0m\u001b[0m\n\u001b[1;32m   1155\u001b[0m                 \u001b[0mcallbacks\u001b[0m\u001b[0;34m.\u001b[0m\u001b[0mon_batch_begin\u001b[0m\u001b[0;34m(\u001b[0m\u001b[0mbatch_index\u001b[0m\u001b[0;34m,\u001b[0m \u001b[0mbatch_logs\u001b[0m\u001b[0;34m)\u001b[0m\u001b[0;34m\u001b[0m\u001b[0m\n\u001b[0;32m-> 1156\u001b[0;31m                 \u001b[0mouts\u001b[0m \u001b[0;34m=\u001b[0m \u001b[0mf\u001b[0m\u001b[0;34m(\u001b[0m\u001b[0mins_batch\u001b[0m\u001b[0;34m)\u001b[0m\u001b[0;34m\u001b[0m\u001b[0m\n\u001b[0m\u001b[1;32m   1157\u001b[0m                 \u001b[0;32mif\u001b[0m \u001b[0;32mnot\u001b[0m \u001b[0misinstance\u001b[0m\u001b[0;34m(\u001b[0m\u001b[0mouts\u001b[0m\u001b[0;34m,\u001b[0m \u001b[0mlist\u001b[0m\u001b[0;34m)\u001b[0m\u001b[0;34m:\u001b[0m\u001b[0;34m\u001b[0m\u001b[0m\n\u001b[1;32m   1158\u001b[0m                     \u001b[0mouts\u001b[0m \u001b[0;34m=\u001b[0m \u001b[0;34m[\u001b[0m\u001b[0mouts\u001b[0m\u001b[0;34m]\u001b[0m\u001b[0;34m\u001b[0m\u001b[0m\n",
      "\u001b[0;32m~/.pyenv/versions/3.5.5/lib/python3.5/site-packages/keras/backend/tensorflow_backend.py\u001b[0m in \u001b[0;36m__call__\u001b[0;34m(self, inputs)\u001b[0m\n\u001b[1;32m   2267\u001b[0m         updated = session.run(self.outputs + [self.updates_op],\n\u001b[1;32m   2268\u001b[0m                               \u001b[0mfeed_dict\u001b[0m\u001b[0;34m=\u001b[0m\u001b[0mfeed_dict\u001b[0m\u001b[0;34m,\u001b[0m\u001b[0;34m\u001b[0m\u001b[0m\n\u001b[0;32m-> 2269\u001b[0;31m                               **self.session_kwargs)\n\u001b[0m\u001b[1;32m   2270\u001b[0m         \u001b[0;32mreturn\u001b[0m \u001b[0mupdated\u001b[0m\u001b[0;34m[\u001b[0m\u001b[0;34m:\u001b[0m\u001b[0mlen\u001b[0m\u001b[0;34m(\u001b[0m\u001b[0mself\u001b[0m\u001b[0;34m.\u001b[0m\u001b[0moutputs\u001b[0m\u001b[0;34m)\u001b[0m\u001b[0;34m]\u001b[0m\u001b[0;34m\u001b[0m\u001b[0m\n\u001b[1;32m   2271\u001b[0m \u001b[0;34m\u001b[0m\u001b[0m\n",
      "\u001b[0;32m~/.pyenv/versions/3.5.5/lib/python3.5/site-packages/tensorflow/python/client/session.py\u001b[0m in \u001b[0;36mrun\u001b[0;34m(self, fetches, feed_dict, options, run_metadata)\u001b[0m\n\u001b[1;32m    887\u001b[0m     \u001b[0;32mtry\u001b[0m\u001b[0;34m:\u001b[0m\u001b[0;34m\u001b[0m\u001b[0m\n\u001b[1;32m    888\u001b[0m       result = self._run(None, fetches, feed_dict, options_ptr,\n\u001b[0;32m--> 889\u001b[0;31m                          run_metadata_ptr)\n\u001b[0m\u001b[1;32m    890\u001b[0m       \u001b[0;32mif\u001b[0m \u001b[0mrun_metadata\u001b[0m\u001b[0;34m:\u001b[0m\u001b[0;34m\u001b[0m\u001b[0m\n\u001b[1;32m    891\u001b[0m         \u001b[0mproto_data\u001b[0m \u001b[0;34m=\u001b[0m \u001b[0mtf_session\u001b[0m\u001b[0;34m.\u001b[0m\u001b[0mTF_GetBuffer\u001b[0m\u001b[0;34m(\u001b[0m\u001b[0mrun_metadata_ptr\u001b[0m\u001b[0;34m)\u001b[0m\u001b[0;34m\u001b[0m\u001b[0m\n",
      "\u001b[0;32m~/.pyenv/versions/3.5.5/lib/python3.5/site-packages/tensorflow/python/client/session.py\u001b[0m in \u001b[0;36m_run\u001b[0;34m(self, handle, fetches, feed_dict, options, run_metadata)\u001b[0m\n\u001b[1;32m   1118\u001b[0m     \u001b[0;32mif\u001b[0m \u001b[0mfinal_fetches\u001b[0m \u001b[0;32mor\u001b[0m \u001b[0mfinal_targets\u001b[0m \u001b[0;32mor\u001b[0m \u001b[0;34m(\u001b[0m\u001b[0mhandle\u001b[0m \u001b[0;32mand\u001b[0m \u001b[0mfeed_dict_tensor\u001b[0m\u001b[0;34m)\u001b[0m\u001b[0;34m:\u001b[0m\u001b[0;34m\u001b[0m\u001b[0m\n\u001b[1;32m   1119\u001b[0m       results = self._do_run(handle, final_targets, final_fetches,\n\u001b[0;32m-> 1120\u001b[0;31m                              feed_dict_tensor, options, run_metadata)\n\u001b[0m\u001b[1;32m   1121\u001b[0m     \u001b[0;32melse\u001b[0m\u001b[0;34m:\u001b[0m\u001b[0;34m\u001b[0m\u001b[0m\n\u001b[1;32m   1122\u001b[0m       \u001b[0mresults\u001b[0m \u001b[0;34m=\u001b[0m \u001b[0;34m[\u001b[0m\u001b[0;34m]\u001b[0m\u001b[0;34m\u001b[0m\u001b[0m\n",
      "\u001b[0;32m~/.pyenv/versions/3.5.5/lib/python3.5/site-packages/tensorflow/python/client/session.py\u001b[0m in \u001b[0;36m_do_run\u001b[0;34m(self, handle, target_list, fetch_list, feed_dict, options, run_metadata)\u001b[0m\n\u001b[1;32m   1315\u001b[0m     \u001b[0;32mif\u001b[0m \u001b[0mhandle\u001b[0m \u001b[0;32mis\u001b[0m \u001b[0;32mNone\u001b[0m\u001b[0;34m:\u001b[0m\u001b[0;34m\u001b[0m\u001b[0m\n\u001b[1;32m   1316\u001b[0m       return self._do_call(_run_fn, self._session, feeds, fetches, targets,\n\u001b[0;32m-> 1317\u001b[0;31m                            options, run_metadata)\n\u001b[0m\u001b[1;32m   1318\u001b[0m     \u001b[0;32melse\u001b[0m\u001b[0;34m:\u001b[0m\u001b[0;34m\u001b[0m\u001b[0m\n\u001b[1;32m   1319\u001b[0m       \u001b[0;32mreturn\u001b[0m \u001b[0mself\u001b[0m\u001b[0;34m.\u001b[0m\u001b[0m_do_call\u001b[0m\u001b[0;34m(\u001b[0m\u001b[0m_prun_fn\u001b[0m\u001b[0;34m,\u001b[0m \u001b[0mself\u001b[0m\u001b[0;34m.\u001b[0m\u001b[0m_session\u001b[0m\u001b[0;34m,\u001b[0m \u001b[0mhandle\u001b[0m\u001b[0;34m,\u001b[0m \u001b[0mfeeds\u001b[0m\u001b[0;34m,\u001b[0m \u001b[0mfetches\u001b[0m\u001b[0;34m)\u001b[0m\u001b[0;34m\u001b[0m\u001b[0m\n",
      "\u001b[0;32m~/.pyenv/versions/3.5.5/lib/python3.5/site-packages/tensorflow/python/client/session.py\u001b[0m in \u001b[0;36m_do_call\u001b[0;34m(self, fn, *args)\u001b[0m\n\u001b[1;32m   1334\u001b[0m         \u001b[0;32mexcept\u001b[0m \u001b[0mKeyError\u001b[0m\u001b[0;34m:\u001b[0m\u001b[0;34m\u001b[0m\u001b[0m\n\u001b[1;32m   1335\u001b[0m           \u001b[0;32mpass\u001b[0m\u001b[0;34m\u001b[0m\u001b[0m\n\u001b[0;32m-> 1336\u001b[0;31m       \u001b[0;32mraise\u001b[0m \u001b[0mtype\u001b[0m\u001b[0;34m(\u001b[0m\u001b[0me\u001b[0m\u001b[0;34m)\u001b[0m\u001b[0;34m(\u001b[0m\u001b[0mnode_def\u001b[0m\u001b[0;34m,\u001b[0m \u001b[0mop\u001b[0m\u001b[0;34m,\u001b[0m \u001b[0mmessage\u001b[0m\u001b[0;34m)\u001b[0m\u001b[0;34m\u001b[0m\u001b[0m\n\u001b[0m\u001b[1;32m   1337\u001b[0m \u001b[0;34m\u001b[0m\u001b[0m\n\u001b[1;32m   1338\u001b[0m   \u001b[0;32mdef\u001b[0m \u001b[0m_extend_graph\u001b[0m\u001b[0;34m(\u001b[0m\u001b[0mself\u001b[0m\u001b[0;34m)\u001b[0m\u001b[0;34m:\u001b[0m\u001b[0;34m\u001b[0m\u001b[0m\n",
      "\u001b[0;31mInternalError\u001b[0m: CUB segmented reduce errorout of memory\n\t [[Node: bidirectional_2/Sum = Sum[T=DT_FLOAT, Tidx=DT_INT32, keep_dims=false, _device=\"/job:localhost/replica:0/task:0/device:GPU:0\"](bidirectional_2/zeros_like, bidirectional_1/Sum/reduction_indices)]]\n\t [[Node: mul_1/_43 = _Recv[client_terminated=false, recv_device=\"/job:localhost/replica:0/task:0/device:CPU:0\", send_device=\"/job:localhost/replica:0/task:0/device:GPU:0\", send_device_incarnation=1, tensor_name=\"edge_6892_mul_1\", tensor_type=DT_FLOAT, _device=\"/job:localhost/replica:0/task:0/device:CPU:0\"]()]]\n\nCaused by op 'bidirectional_2/Sum', defined at:\n  File \"/home/R2016hwang/.pyenv/versions/3.5.5/lib/python3.5/runpy.py\", line 193, in _run_module_as_main\n    \"__main__\", mod_spec)\n  File \"/home/R2016hwang/.pyenv/versions/3.5.5/lib/python3.5/runpy.py\", line 85, in _run_code\n    exec(code, run_globals)\n  File \"/home/R2016hwang/.pyenv/versions/3.5.5/lib/python3.5/site-packages/ipykernel_launcher.py\", line 16, in <module>\n    app.launch_new_instance()\n  File \"/home/R2016hwang/.pyenv/versions/3.5.5/lib/python3.5/site-packages/traitlets/config/application.py\", line 658, in launch_instance\n    app.start()\n  File \"/home/R2016hwang/.pyenv/versions/3.5.5/lib/python3.5/site-packages/ipykernel/kernelapp.py\", line 486, in start\n    self.io_loop.start()\n  File \"/home/R2016hwang/.pyenv/versions/3.5.5/lib/python3.5/site-packages/tornado/platform/asyncio.py\", line 127, in start\n    self.asyncio_loop.run_forever()\n  File \"/home/R2016hwang/.pyenv/versions/3.5.5/lib/python3.5/asyncio/base_events.py\", line 421, in run_forever\n    self._run_once()\n  File \"/home/R2016hwang/.pyenv/versions/3.5.5/lib/python3.5/asyncio/base_events.py\", line 1425, in _run_once\n    handle._run()\n  File \"/home/R2016hwang/.pyenv/versions/3.5.5/lib/python3.5/asyncio/events.py\", line 127, in _run\n    self._callback(*self._args)\n  File \"/home/R2016hwang/.pyenv/versions/3.5.5/lib/python3.5/site-packages/tornado/platform/asyncio.py\", line 117, in _handle_events\n    handler_func(fileobj, events)\n  File \"/home/R2016hwang/.pyenv/versions/3.5.5/lib/python3.5/site-packages/tornado/stack_context.py\", line 276, in null_wrapper\n    return fn(*args, **kwargs)\n  File \"/home/R2016hwang/.pyenv/versions/3.5.5/lib/python3.5/site-packages/zmq/eventloop/zmqstream.py\", line 450, in _handle_events\n    self._handle_recv()\n  File \"/home/R2016hwang/.pyenv/versions/3.5.5/lib/python3.5/site-packages/zmq/eventloop/zmqstream.py\", line 480, in _handle_recv\n    self._run_callback(callback, msg)\n  File \"/home/R2016hwang/.pyenv/versions/3.5.5/lib/python3.5/site-packages/zmq/eventloop/zmqstream.py\", line 432, in _run_callback\n    callback(*args, **kwargs)\n  File \"/home/R2016hwang/.pyenv/versions/3.5.5/lib/python3.5/site-packages/tornado/stack_context.py\", line 276, in null_wrapper\n    return fn(*args, **kwargs)\n  File \"/home/R2016hwang/.pyenv/versions/3.5.5/lib/python3.5/site-packages/ipykernel/kernelbase.py\", line 283, in dispatcher\n    return self.dispatch_shell(stream, msg)\n  File \"/home/R2016hwang/.pyenv/versions/3.5.5/lib/python3.5/site-packages/ipykernel/kernelbase.py\", line 233, in dispatch_shell\n    handler(stream, idents, msg)\n  File \"/home/R2016hwang/.pyenv/versions/3.5.5/lib/python3.5/site-packages/ipykernel/kernelbase.py\", line 399, in execute_request\n    user_expressions, allow_stdin)\n  File \"/home/R2016hwang/.pyenv/versions/3.5.5/lib/python3.5/site-packages/ipykernel/ipkernel.py\", line 208, in do_execute\n    res = shell.run_cell(code, store_history=store_history, silent=silent)\n  File \"/home/R2016hwang/.pyenv/versions/3.5.5/lib/python3.5/site-packages/ipykernel/zmqshell.py\", line 537, in run_cell\n    return super(ZMQInteractiveShell, self).run_cell(*args, **kwargs)\n  File \"/home/R2016hwang/.pyenv/versions/3.5.5/lib/python3.5/site-packages/IPython/core/interactiveshell.py\", line 2662, in run_cell\n    raw_cell, store_history, silent, shell_futures)\n  File \"/home/R2016hwang/.pyenv/versions/3.5.5/lib/python3.5/site-packages/IPython/core/interactiveshell.py\", line 2785, in _run_cell\n    interactivity=interactivity, compiler=compiler, result=result)\n  File \"/home/R2016hwang/.pyenv/versions/3.5.5/lib/python3.5/site-packages/IPython/core/interactiveshell.py\", line 2909, in run_ast_nodes\n    if self.run_code(code, result):\n  File \"/home/R2016hwang/.pyenv/versions/3.5.5/lib/python3.5/site-packages/IPython/core/interactiveshell.py\", line 2963, in run_code\n    exec(code_obj, self.user_global_ns, self.user_ns)\n  File \"<ipython-input-1-ae3cc16c1d89>\", line 1, in <module>\n    get_ipython().run_line_magic('run', 'keras_title_projection.py')\n  File \"/home/R2016hwang/.pyenv/versions/3.5.5/lib/python3.5/site-packages/IPython/core/interactiveshell.py\", line 2131, in run_line_magic\n    result = fn(*args,**kwargs)\n  File \"<decorator-gen-60>\", line 2, in run\n  File \"/home/R2016hwang/.pyenv/versions/3.5.5/lib/python3.5/site-packages/IPython/core/magic.py\", line 187, in <lambda>\n    call = lambda f, *a, **k: f(*a, **k)\n  File \"/home/R2016hwang/.pyenv/versions/3.5.5/lib/python3.5/site-packages/IPython/core/magics/execution.py\", line 775, in run\n    run()\n  File \"/home/R2016hwang/.pyenv/versions/3.5.5/lib/python3.5/site-packages/IPython/core/magics/execution.py\", line 761, in run\n    exit_ignore=exit_ignore)\n  File \"/home/R2016hwang/.pyenv/versions/3.5.5/lib/python3.5/site-packages/IPython/core/interactiveshell.py\", line 2527, in safe_execfile\n    self.compile if shell_futures else None)\n  File \"/home/R2016hwang/.pyenv/versions/3.5.5/lib/python3.5/site-packages/IPython/utils/py3compat.py\", line 188, in execfile\n    exec(compiler(f.read(), fname, 'exec'), glob, loc)\n  File \"/home/R2016hwang/research/keras_title_projection.py\", line 608, in <module>\n    lstm_out_2 = Bidirectional(LSTM(dim_lstm, go_backwards=True), merge_mode=bi_lstm_mode)(input_2)\n  File \"/home/R2016hwang/.pyenv/versions/3.5.5/lib/python3.5/site-packages/keras/engine/topology.py\", line 596, in __call__\n    output = self.call(inputs, **kwargs)\n  File \"/home/R2016hwang/.pyenv/versions/3.5.5/lib/python3.5/site-packages/keras/layers/wrappers.py\", line 263, in call\n    y = self.forward_layer.call(inputs, **kwargs)\n  File \"/home/R2016hwang/.pyenv/versions/3.5.5/lib/python3.5/site-packages/keras/layers/recurrent.py\", line 309, in call\n    initial_state = self.get_initial_state(inputs)\n  File \"/home/R2016hwang/.pyenv/versions/3.5.5/lib/python3.5/site-packages/keras/layers/recurrent.py\", line 247, in get_initial_state\n    initial_state = K.sum(initial_state, axis=(1, 2))  # (samples,)\n  File \"/home/R2016hwang/.pyenv/versions/3.5.5/lib/python3.5/site-packages/keras/backend/tensorflow_backend.py\", line 1190, in sum\n    return tf.reduce_sum(x, reduction_indices=axis, keep_dims=keepdims)\n  File \"/home/R2016hwang/.pyenv/versions/3.5.5/lib/python3.5/site-packages/tensorflow/python/ops/math_ops.py\", line 1307, in reduce_sum\n    name=name)\n  File \"/home/R2016hwang/.pyenv/versions/3.5.5/lib/python3.5/site-packages/tensorflow/python/ops/gen_math_ops.py\", line 4682, in _sum\n    keep_dims=keep_dims, name=name)\n  File \"/home/R2016hwang/.pyenv/versions/3.5.5/lib/python3.5/site-packages/tensorflow/python/framework/op_def_library.py\", line 787, in _apply_op_helper\n    op_def=op_def)\n  File \"/home/R2016hwang/.pyenv/versions/3.5.5/lib/python3.5/site-packages/tensorflow/python/framework/ops.py\", line 2956, in create_op\n    op_def=op_def)\n  File \"/home/R2016hwang/.pyenv/versions/3.5.5/lib/python3.5/site-packages/tensorflow/python/framework/ops.py\", line 1470, in __init__\n    self._traceback = self._graph._extract_stack()  # pylint: disable=protected-access\n\nInternalError (see above for traceback): CUB segmented reduce errorout of memory\n\t [[Node: bidirectional_2/Sum = Sum[T=DT_FLOAT, Tidx=DT_INT32, keep_dims=false, _device=\"/job:localhost/replica:0/task:0/device:GPU:0\"](bidirectional_2/zeros_like, bidirectional_1/Sum/reduction_indices)]]\n\t [[Node: mul_1/_43 = _Recv[client_terminated=false, recv_device=\"/job:localhost/replica:0/task:0/device:CPU:0\", send_device=\"/job:localhost/replica:0/task:0/device:GPU:0\", send_device_incarnation=1, tensor_name=\"edge_6892_mul_1\", tensor_type=DT_FLOAT, _device=\"/job:localhost/replica:0/task:0/device:CPU:0\"]()]]\n"
     ]
    }
   ],
   "source": [
    "run keras_title_projection.py"
   ]
  },
  {
   "cell_type": "code",
   "execution_count": null,
   "metadata": {},
   "outputs": [],
   "source": []
  }
 ],
 "metadata": {
  "kernelspec": {
   "display_name": "Python 3",
   "language": "python",
   "name": "python3"
  },
  "language_info": {
   "codemirror_mode": {
    "name": "ipython",
    "version": 3
   },
   "file_extension": ".py",
   "mimetype": "text/x-python",
   "name": "python",
   "nbconvert_exporter": "python",
   "pygments_lexer": "ipython3",
   "version": "3.5.5"
  }
 },
 "nbformat": 4,
 "nbformat_minor": 2
}
